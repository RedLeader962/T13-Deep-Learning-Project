{
 "nbformat": 4,
 "nbformat_minor": 0,
 "metadata": {
  "kernelspec": {
   "display_name": "Python 3",
   "language": "python",
   "name": "python3"
  },
  "language_info": {
   "codemirror_mode": {
    "name": "ipython",
    "version": 2
   },
   "file_extension": ".py",
   "mimetype": "text/x-python",
   "name": "python",
   "nbconvert_exporter": "python",
   "pygments_lexer": "ipython2",
   "version": "2.7.6"
  },
  "colab": {
   "name": "clone_tp2_repo_in_google_colab.ipynb",
   "provenance": [],
   "include_colab_link": true
  }
 },
 "cells": [
  {
   "cell_type": "markdown",
   "source": [
    "# Colab `team13twin-rudder` experiment runner - RUN T1 CP/MC\n",
    "\n",
    "### Jupyter notebook stuff"
   ],
   "metadata": {
    "collapsed": false
   }
  },
  {
   "cell_type": "code",
   "execution_count": null,
   "outputs": [],
   "source": [
    "# Load and turn ON IPython autoreload\n",
    "#   %autoreload 0 - disables the auto-reloading. This is the default setting\n",
    "#   %autoreload 1 - it will only auto-reload modules that were imported using the %aimport function (e.g %aimport my_module).\n",
    "#   %autoreload 2 - auto-reload all the modules\n",
    "#\n",
    "#   Alternative:\n",
    "#   ```\n",
    "#   import importlib\n",
    "#   importlib.reload(my_module)\n",
    "#   ```\n",
    "# source: https://switowski.com/blog/ipython-autoreload\n",
    "# %load_ext autoreload\n",
    "# %autoreload 2\n",
    "#\n",
    "# %matplotlib inline"
   ],
   "metadata": {
    "collapsed": false,
    "pycharm": {
     "name": "#%%\n"
    }
   }
  },
  {
   "cell_type": "markdown",
   "source": [
    "### Clone `T13-Deep-Learning-Project` repository"
   ],
   "metadata": {
    "collapsed": false
   }
  },
  {
   "cell_type": "markdown",
   "source": [
    "#### Setup local user"
   ],
   "metadata": {
    "collapsed": false
   }
  },
  {
   "cell_type": "code",
   "execution_count": null,
   "outputs": [],
   "source": [
    "!git config --global user.email \"luc.coupal.1@ulaval.ca\"\n",
    "!git config --global user.name \"RedLeader962\""
   ],
   "metadata": {
    "collapsed": false,
    "pycharm": {
     "name": "#%%\n"
    }
   }
  },
  {
   "cell_type": "code",
   "execution_count": null,
   "outputs": [],
   "source": [
    "import os\n",
    "from getpass import getpass\n",
    "\n",
    "if not os.path.exists('./codebase'):\n",
    "    # user = getpass('GitHub user')\n",
    "    user = 'RedLeader962'\n",
    "    password = getpass('GitHub password')\n",
    "    os.environ['GITHUB_AUTH'] = user + ':' + password\n",
    "    # !git clone -l -s https://$GITHUB_AUTH@github.com/RedLeader962/T13-Deep-Learning-Project.git cloned-repo\n",
    "    !git clone -l -s --branch T13PRO-159-experimentation-branch https://$GITHUB_AUTH@github.com/RedLeader962/T13-Deep-Learning-Project.git cloned-repo\n",
    "\n",
    "    %cd cloned-repo\n",
    "    !ls\n",
    "else:\n",
    "    print(\"››› T13-Deep-Learning-Project.git is already cloned\")"
   ],
   "metadata": {
    "collapsed": false,
    "pycharm": {
     "name": "#%%\n"
    }
   }
  },
  {
   "cell_type": "markdown",
   "source": [
    "#### Pull repo update when needed"
   ],
   "metadata": {
    "collapsed": false
   }
  },
  {
   "cell_type": "code",
   "execution_count": null,
   "outputs": [],
   "source": [
    "!git pull https://$GITHUB_AUTH@github.com/RedLeader962/T13-Deep-Learning-Project.git"
   ],
   "metadata": {
    "collapsed": false,
    "pycharm": {
     "name": "#%%\n"
    }
   }
  },
  {
   "cell_type": "markdown",
   "source": [
    "#### Test `T13-Deep-Learning-Project` cloning procedure"
   ],
   "metadata": {
    "collapsed": false
   }
  },
  {
   "cell_type": "code",
   "execution_count": 1,
   "outputs": [
    {
     "name": "stdout",
     "output_type": "stream",
     "text": [
      "hellooooowwwwwww RedLeader962!\n"
     ]
    }
   ],
   "source": [
    "from experiment_runner.experiment_runner_utils import check_repository_pulled_to_local_drive_ok\n",
    "check_repository_pulled_to_local_drive_ok()"
   ],
   "metadata": {
    "collapsed": false,
    "pycharm": {
     "name": "#%%\n"
    }
   }
  },
  {
   "cell_type": "markdown",
   "source": [
    "------------------------------------------------------------------------------------------------------------------------"
   ],
   "metadata": {
    "collapsed": false
   }
  },
  {
   "cell_type": "code",
   "execution_count": 2,
   "outputs": [
    {
     "name": "stdout",
     "output_type": "stream",
     "text": [
      "/bin/bash: nvidia-smi: command not found\n"
     ]
    }
   ],
   "source": [
    "## Check l'état du GPU en loop à tout les 10sec\n",
    "# !watch -n10.0 nvidia-smi\n",
    "\n",
    "gpu_info = !nvidia-smi\n",
    "gpu_info = '\\n'.join(gpu_info)\n",
    "if gpu_info.find('failed') >= 0:\n",
    "    print('Select the Runtime > \"Change runtime type\" menu to enable a GPU accelerator, ')\n",
    "    print('and then re-execute this cell.')\n",
    "else:\n",
    "    print(gpu_info)"
   ],
   "metadata": {
    "collapsed": false,
    "pycharm": {
     "name": "#%%\n"
    }
   }
  },
  {
   "cell_type": "markdown",
   "source": [
    "------------------------------------------------------------------------------------------------------------------------\n",
    "# `lstm` model baseline experimentation"
   ],
   "metadata": {
    "collapsed": false
   }
  },
  {
   "cell_type": "code",
   "execution_count": 3,
   "outputs": [],
   "source": [
    "import dataclasses\n",
    "\n",
    "import torch\n",
    "import numpy as np\n",
    "import random\n",
    "\n",
    "from codebase import rudder as rd\n",
    "from experiment_runner.experiment_spec import (\n",
    "    ExperimentSpec,\n",
    "    PpoExperimentSpec,\n",
    "    RudderLstmExperimentSpec,\n",
    "    PpoRudderExperimentSpec\n",
    "    )\n",
    "\n",
    "from experiment_runner.parameter_search_map import (\n",
    "    PpoRudderParameterSearchMap,\n",
    "    RudderLstmParameterSearchMap\n",
    "    )\n",
    "\n",
    "from experiment_runner.colab_spec_configuration import (\n",
    "    colab_rudder_lstm_specs,\n",
    "    colab_ppo_rudder_top_to_bottom_specs,\n",
    "    T1CP_colab_ppo_rudder_top_to_bottom_specs,\n",
    "    T1MC_colab_ppo_rudder_top_to_bottom_specs\n",
    "    )\n",
    "from experiment_runner.experiment_runner_utils import execute_experiment_plan, execute_parameter_search\n",
    "# from script.Script_run_LSTM import main as script_rudder_lstm_main,\n",
    "# from script.Script_run_ppo_with_rudder import main as script_rudder_run_ppo_with_rudder_main\n",
    "from script.Script_run_ppo_with_rudder_top_to_bottom import main as script_rudder_run_ppo_with_rudder_TOP_TO_BOTTOM_main\n"
   ],
   "metadata": {
    "collapsed": false,
    "pycharm": {
     "name": "#%%\n"
    }
   }
  },
  {
   "cell_type": "code",
   "execution_count": null,
   "outputs": [],
   "source": [
    "\"\"\"\n",
    "Check all available field in `experiment_runner/experiment_spec.py`\n",
    "\"\"\"\n",
    "\n",
    "# colab_specs = RudderLstmParameterSearchMap(\n",
    "#     env_name=\"CartPole-v1\",\n",
    "#     env_batch_size=lambda: random.choice([4, 6, 8, 10]),\n",
    "#     model_hidden_size=lambda: random.choice([10, 15, 20, 25, 30, 40, 60]),\n",
    "#     env_n_trajectories=lambda: random.choice([3000, 4000, 5000, ]),\n",
    "#     env_perct_optimal=lambda: random.choice([0.3, 0.4, 0.5, 0.5, 0.5, 0.6, 0.7, ]),\n",
    "#     env_rew_factor=lambda: random.choice([1.0, 1.0, 0.1, 0.01, ]),\n",
    "#     n_epoches=lambda: random.choice([20, 40, 60, 80, 100, 140, 200, 300, 400, 600]),\n",
    "#     optimizer_weight_decay=lambda: random.choice([1e-1, 1e-2, 1e-3]),\n",
    "#     optimizer_lr=lambda: random.choice([1e-1, 1e-2, 1e-3]),\n",
    "#     show_plot=True,\n",
    "#     print_to_consol=False,\n",
    "#     seed=42,\n",
    "#     )\n"
   ],
   "metadata": {
    "collapsed": false,
    "pycharm": {
     "name": "#%%\n"
    }
   }
  },
  {
   "cell_type": "code",
   "execution_count": 9,
   "outputs": [],
   "source": [
    "# exp_spec = colab_specs\n",
    "\n"
   ],
   "metadata": {
    "collapsed": false,
    "pycharm": {
     "name": "#%%\n"
    }
   }
  },
  {
   "cell_type": "markdown",
   "source": [
    "---\n",
    "---\n",
    "# Exp T1MC - MontainCar -"
   ],
   "metadata": {
    "collapsed": false
   }
  },
  {
   "cell_type": "markdown",
   "source": [
    "---\n",
    "## :: Hparam:"
   ],
   "metadata": {
    "collapsed": false
   }
  },
  {
   "cell_type": "code",
   "execution_count": null,
   "outputs": [],
   "source": [
    "print(T1MC_colab_ppo_rudder_top_to_bottom_specs)"
   ],
   "metadata": {
    "collapsed": false,
    "pycharm": {
     "name": "#%%\n"
    }
   }
  },
  {
   "cell_type": "markdown",
   "source": [
    "#### Run"
   ],
   "metadata": {
    "collapsed": false
   }
  },
  {
   "cell_type": "code",
   "execution_count": null,
   "outputs": [],
   "source": [
    "# import os\n",
    "# os.getcwd()\n",
    "# os.listdir(os.getcwd())\n",
    "# script_rudder_lstm_main(exp_spec)\n",
    "\n"
   ],
   "metadata": {
    "collapsed": false,
    "pycharm": {
     "name": "#%%\n"
    }
   }
  },
  {
   "cell_type": "code",
   "execution_count": null,
   "outputs": [],
   "source": [
    "\n",
    "result = execute_parameter_search(T1MC_colab_ppo_rudder_top_to_bottom_specs,\n",
    "                                  script_fct=script_rudder_run_ppo_with_rudder_TOP_TO_BOTTOM_main,\n",
    "                                  exp_size=20, start_count_at=1)\n"
   ],
   "metadata": {
    "collapsed": false,
    "pycharm": {
     "name": "#%%\n"
    }
   }
  },
  {
   "cell_type": "markdown",
   "source": [
    "---\n",
    "# Exp T1CP - CartPole -"
   ],
   "metadata": {
    "collapsed": false
   }
  },
  {
   "cell_type": "markdown",
   "source": [
    "---\n",
    "## :: Hparam:"
   ],
   "metadata": {
    "collapsed": false
   }
  },
  {
   "cell_type": "code",
   "execution_count": 10,
   "outputs": [
    {
     "name": "stdout",
     "output_type": "stream",
     "text": [
      "   RudderLstmParameterSearchMap ›››\n",
      "                    show_plot : True\n",
      "                     env_name : CartPole-v1\n",
      "               env_batch_size : 4\n",
      "            model_hidden_size : 22\n",
      "           env_n_trajectories : 2\n",
      "            env_perct_optimal : 0.5\n",
      "               env_rew_factor : 0.1\n",
      "                    n_epoches : 2\n",
      "       optimizer_weight_decay : 0.001\n",
      "                 optimizer_lr : 0.001\n",
      "         paramSearchCallables :    RudderLstmExperimentSpec ›››\n",
      "            model_hidden_size : <function <lambda> at 0x7f9279035b80>\n",
      "       optimizer_weight_decay : <function <lambda> at 0x7f9279035ca0>\n",
      "\n",
      "   \n",
      "\n",
      "\n",
      "   \n",
      "\n"
     ]
    }
   ],
   "source": [
    "print(T1CP_colab_ppo_rudder_top_to_bottom_specs)"
   ],
   "metadata": {
    "collapsed": false,
    "pycharm": {
     "name": "#%%\n"
    }
   }
  },
  {
   "cell_type": "markdown",
   "source": [
    "#### Run"
   ],
   "metadata": {
    "collapsed": false
   }
  },
  {
   "cell_type": "code",
   "execution_count": 13,
   "outputs": [
    {
     "data": {
      "text/plain": "['remote_run_utils.py',\n 'exp_colab_runner.ipynb',\n '__init__.py',\n '__pycache__',\n 'experiment_details.py']"
     },
     "execution_count": 13,
     "metadata": {},
     "output_type": "execute_result"
    }
   ],
   "source": [
    "# import os\n",
    "# os.getcwd()\n",
    "# os.listdir(os.getcwd())\n",
    "# script_rudder_lstm_main(exp_spec)\n",
    "\n"
   ],
   "metadata": {
    "collapsed": false,
    "pycharm": {
     "name": "#%%\n"
    }
   }
  },
  {
   "cell_type": "code",
   "execution_count": null,
   "outputs": [],
   "source": [
    "\n",
    "result = execute_parameter_search(T1CP_colab_ppo_rudder_top_to_bottom_specs,\n",
    "                                  script_fct=script_rudder_run_ppo_with_rudder_TOP_TO_BOTTOM_main,\n",
    "                                  exp_size=20, start_count_at=1)\n"
   ],
   "metadata": {
    "collapsed": false,
    "pycharm": {
     "name": "#%%\n"
    }
   }
  },
  {
   "cell_type": "markdown",
   "source": [
    "---\n",
    "\n"
   ],
   "metadata": {
    "collapsed": false
   }
  },
  {
   "cell_type": "code",
   "execution_count": null,
   "outputs": [],
   "source": [
    "!git add experiment/run/CartPole-v1/run-\\*\n",
    "!git add experiment/run/CartPole-v1/run-\\*/lstm_\\*.pt\n",
    "!git add experiment/run/CartPole-v1/run-\\*/\\*.jpg\n",
    "!git add experiment/run/MountainCar-v0/run-\\*\n",
    "!git add experiment/run/MountainCar-v0/run-\\*/lstm_\\*.pt\n",
    "!git add experiment/run/MountainCar-v0/run-\\*/\\*.jpg\n",
    "\n",
    "!git commit -am \"Colab run RedLeader962 E1\"\n",
    "!git push https://$GITHUB_AUTH@github.com/RedLeader962/T13-Deep-Learning-Project.git --all"
   ],
   "metadata": {
    "collapsed": false,
    "pycharm": {
     "name": "#%%\n"
    }
   }
  }
 ]
}