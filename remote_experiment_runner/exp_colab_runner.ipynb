{
 "nbformat": 4,
 "nbformat_minor": 0,
 "metadata": {
  "kernelspec": {
   "display_name": "Python 3",
   "language": "python",
   "name": "python3"
  },
  "language_info": {
   "codemirror_mode": {
    "name": "ipython",
    "version": 2
   },
   "file_extension": ".py",
   "mimetype": "text/x-python",
   "name": "python",
   "nbconvert_exporter": "python",
   "pygments_lexer": "ipython2",
   "version": "2.7.6"
  },
  "colab": {
   "name": "clone_tp2_repo_in_google_colab.ipynb",
   "provenance": [],
   "include_colab_link": true
  }
 },
 "cells": [
  {
   "cell_type": "markdown",
   "source": [
    "# Colab `team13twin-rudder` experiment runner\n",
    "\n",
    "### Jupyter notebook stuff"
   ],
   "metadata": {
    "collapsed": false
   }
  },
  {
   "cell_type": "code",
   "execution_count": null,
   "outputs": [],
   "source": [
    "# Load and turn ON IPython autoreload\n",
    "#   %autoreload 0 - disables the auto-reloading. This is the default setting\n",
    "#   %autoreload 1 - it will only auto-reload modules that were imported using the %aimport function (e.g %aimport my_module).\n",
    "#   %autoreload 2 - auto-reload all the modules\n",
    "#\n",
    "#   Alternative:\n",
    "#   ```\n",
    "#   import importlib\n",
    "#   importlib.reload(my_module)\n",
    "#   ```\n",
    "# source: https://switowski.com/blog/ipython-autoreload\n",
    "# %load_ext autoreload\n",
    "# %autoreload 2\n",
    "#\n",
    "# %matplotlib inline"
   ],
   "metadata": {
    "collapsed": false,
    "pycharm": {
     "name": "#%%\n"
    }
   }
  },
  {
   "cell_type": "markdown",
   "source": [
    "### Clone `T13-Deep-Learning-Project` repository"
   ],
   "metadata": {
    "collapsed": false
   }
  },
  {
   "cell_type": "markdown",
   "source": [
    "#### Setup local user"
   ],
   "metadata": {
    "collapsed": false
   }
  },
  {
   "cell_type": "code",
   "execution_count": null,
   "outputs": [],
   "source": [
    "!git config -- global user.email \"luc.coupal.1@ulaval.ca\"\n",
    "!git config -- global user.name \"RedLeader962\""
   ],
   "metadata": {
    "collapsed": false,
    "pycharm": {
     "name": "#%%\n"
    }
   }
  },
  {
   "cell_type": "code",
   "execution_count": null,
   "outputs": [],
   "source": [
    "import os\n",
    "from getpass import getpass\n",
    "\n",
    "if not os.path.exists('./codebase'):\n",
    "    # user = getpass('GitHub user')\n",
    "    user = 'RedLeader962'\n",
    "    password = getpass('GitHub password')\n",
    "    os.environ['GITHUB_AUTH'] = user + ':' + password\n",
    "    !git clone -l -s https://$GITHUB_AUTH@github.com/RedLeader962/T13-Deep-Learning-Project.git cloned-repo\n",
    "\n",
    "    %cd cloned-repo\n",
    "    !ls\n",
    "else:\n",
    "    print(\"››› T13-Deep-Learning-Project.git is already cloned\")"
   ],
   "metadata": {
    "collapsed": false,
    "pycharm": {
     "name": "#%%\n"
    }
   }
  },
  {
   "cell_type": "markdown",
   "source": [
    "#### Pull repo update when needed"
   ],
   "metadata": {
    "collapsed": false
   }
  },
  {
   "cell_type": "code",
   "execution_count": null,
   "outputs": [],
   "source": [
    "!git pull https://$GITHUB_AUTH@github.com/RedLeader962/T13-Deep-Learning-Project.git"
   ],
   "metadata": {
    "collapsed": false,
    "pycharm": {
     "name": "#%%\n"
    }
   }
  },
  {
   "cell_type": "markdown",
   "source": [
    "#### Test `T13-Deep-Learning-Project` cloning procedure"
   ],
   "metadata": {
    "collapsed": false
   }
  },
  {
   "cell_type": "code",
   "execution_count": null,
   "outputs": [],
   "source": [
    "from remote_experiment_runner.remote_run_utils import check_repository_pulled_to_local_drive_ok\n",
    "\n",
    "check_repository_pulled_to_local_drive_ok()"
   ],
   "metadata": {
    "collapsed": false,
    "pycharm": {
     "name": "#%%\n"
    }
   }
  },
  {
   "cell_type": "markdown",
   "source": [
    "------------------------------------------------------------------------------------------------------------------------"
   ],
   "metadata": {
    "collapsed": false
   }
  },
  {
   "cell_type": "code",
   "execution_count": null,
   "outputs": [],
   "source": [
    "## Check l'état du GPU en loop à tout les 10sec\n",
    "# !watch -n10.0 nvidia-smi\n",
    "\n",
    "gpu_info = !nvidia-smi\n",
    "gpu_info = '\\n'.join(gpu_info)\n",
    "if gpu_info.find('failed') >= 0:\n",
    "    print('Select the Runtime > \"Change runtime type\" menu to enable a GPU accelerator, ')\n",
    "    print('and then re-execute this cell.')\n",
    "else:\n",
    "    print(gpu_info)"
   ],
   "metadata": {
    "collapsed": false,
    "pycharm": {
     "name": "#%%\n"
    }
   }
  },
  {
   "cell_type": "markdown",
   "source": [
    "------------------------------------------------------------------------------------------------------------------------\n",
    "# `lstm` model baseline experimentation"
   ],
   "metadata": {
    "collapsed": false
   }
  },
  {
   "cell_type": "code",
   "execution_count": null,
   "outputs": [],
   "source": [
    "import dataclasses\n",
    "\n",
    "import torch\n",
    "import numpy as np\n",
    "\n",
    "from codebase import rudder as rd\n",
    "from script.experiment_spec import ExperimentSpec, PpoExperimentSpec, RudderExperimentSpec\n",
    "from script.Script_run_LSTM import user_spec as script_main_spec\n",
    "\n"
   ],
   "metadata": {
    "collapsed": false,
    "pycharm": {
     "name": "#%%\n"
    }
   }
  },
  {
   "cell_type": "code",
   "execution_count": null,
   "outputs": [],
   "source": [
    "Colab_spec = RudderExperimentSpec(\n",
    "    n_epoches=2,\n",
    "    env_batch_size=100,\n",
    "    loader_batch_size=8,\n",
    "    show_plot=True,\n",
    "    )"
   ],
   "metadata": {
    "collapsed": false,
    "pycharm": {
     "name": "#%%\n"
    }
   }
  },
  {
   "cell_type": "code",
   "execution_count": null,
   "outputs": [],
   "source": [
    "exp_spec = Colab_spec\n"
   ],
   "metadata": {
    "collapsed": false,
    "pycharm": {
     "name": "#%%\n"
    }
   }
  },
  {
   "cell_type": "markdown",
   "source": [
    "---\n",
    "---\n",
    "# Exp 1"
   ],
   "metadata": {
    "collapsed": false
   }
  },
  {
   "cell_type": "markdown",
   "source": [
    "---\n",
    "## :: Hparam:"
   ],
   "metadata": {
    "collapsed": false
   }
  },
  {
   "cell_type": "code",
   "execution_count": null,
   "outputs": [],
   "source": [
    "exp_spec = script_main_spec"
   ],
   "metadata": {
    "collapsed": false,
    "pycharm": {
     "name": "#%%\n"
    }
   }
  },
  {
   "cell_type": "markdown",
   "source": [
    "#### Run"
   ],
   "metadata": {
    "collapsed": false
   }
  },
  {
   "cell_type": "code",
   "execution_count": null,
   "outputs": [],
   "source": [],
   "metadata": {
    "collapsed": false,
    "pycharm": {
     "name": "#%%\n"
    }
   }
  },
  {
   "cell_type": "markdown",
   "source": [
    "## Result"
   ],
   "metadata": {
    "collapsed": false
   }
  },
  {
   "cell_type": "code",
   "execution_count": null,
   "outputs": [],
   "source": [],
   "metadata": {
    "collapsed": false,
    "pycharm": {
     "name": "#%%\n"
    }
   }
  },
  {
   "cell_type": "markdown",
   "source": [
    "---\n"
   ],
   "metadata": {
    "collapsed": false
   }
  },
  {
   "cell_type": "code",
   "execution_count": null,
   "outputs": [],
   "source": [
    "# !git add remote_experiment_runner/colab_experiment/run_output/\\*.jpg\n",
    "# !git add remote_experiment_runner/experiment_spec.py\n",
    "\n",
    "!git commit -am \"Colab run RedLeader962 E1\"\n",
    "!git push https://$GITHUB_AUTH@github.com/RedLeader962/T13-Deep-Learning-Project.git --all"
   ],
   "metadata": {
    "collapsed": false,
    "pycharm": {
     "name": "#%%\n"
    }
   }
  }
 ]
}